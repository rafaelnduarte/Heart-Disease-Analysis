{
  "nbformat": 4,
  "nbformat_minor": 0,
  "metadata": {
    "colab": {
      "name": "Heart Diseases - Machine Learning(XGBoost)",
      "provenance": [],
      "collapsed_sections": [],
      "include_colab_link": true
    },
    "kernelspec": {
      "name": "python3",
      "display_name": "Python 3"
    }
  },
  "cells": [
    {
      "cell_type": "markdown",
      "metadata": {
        "id": "view-in-github",
        "colab_type": "text"
      },
      "source": [
        "<a href=\"https://colab.research.google.com/github/rafaelnduarte/Heart_Disease_Machine_Learning_XGBoost/blob/master/Heart_Diseases_Machine_Learning(XGBoost).ipynb\" target=\"_parent\"><img src=\"https://colab.research.google.com/assets/colab-badge.svg\" alt=\"Open In Colab\"/></a>"
      ]
    },
    {
      "cell_type": "markdown",
      "metadata": {
        "id": "6WsxowIMcS2H",
        "colab_type": "text"
      },
      "source": [
        "# Heart Diseases - Machine Learning\n",
        "\n",
        "Heart disease is the leading cause of death in the United States, according to the [Centers for Disease Control and Prevention (CDC)](https://www.cdc.gov/heartdisease/facts.htm). In the United States, 1 in every 4 deaths is the result of heart disease. That’s about 610,000 people who die from the condition each year.\n",
        "\n",
        "<center><img src=\"https://image.freepik.com/free-photo/hands-holding-heart_23-2148172201.jpg\"></center>\n",
        "\n",
        "Despite being one of the main causes of death all over the world, about 90% of heart disease cases could have been prevented through simple changes in lifestyle.\n",
        "\n",
        "There are numerous researches on Machine Learning to build new predictive models that help doctors with the diagnosis of heart diseases.\n",
        "\n",
        "Studies published in the magazine [Nature Biomedical Engineering](https://www.nature.com/natbiomedeng/) show that Deep Learning algorithms were capable of anticipating heart diseases in up to 5 years ahead.\n",
        "\n",
        "Unquestionably, the use of Artificial Intelligence has deeply impacted the health area and has provided doctors and other health professionals with intelligence data that are becoming even more precise.\n",
        "\n",
        "### The objective of this notebook is to provide a comprehensive analysis of the dataset, understand the variables related to heart disease, and build a Machine Learning model to predict Heart Disease cases based on the patient's data."
      ]
    },
    {
      "cell_type": "markdown",
      "metadata": {
        "id": "VaXbbCBPUZTW",
        "colab_type": "text"
      },
      "source": [
        "## Obtaining the Data\n",
        "\n",
        "The main dataset used in this project was obtained on the ***Cleveland Clinic Foundation*** foundation and is available in the well known e se encontra disponível no conhecido [UCI Machine Learning Repository](https://archive.ics.uci.edu/ml/datasets/heart+Disease). It should be noted that the names, identity and personal documents of the patients have been completely removed from the dataset.\n",
        "\n",
        "This processed dataset contains data o over 303 people and 76 attributes. However, the main published studies and articles chose to use only 14 of these attributes, considered to be of greater relevance. Accordingly, this *Data Science Project* will use the same 14 variables.\n",
        "\n",
        "<p><img alt=\"Colaboratory logo\" height=\"100\" src=\"https://raw.githubusercontent.com/carlosfab/curso_data_science_na_pratica/master/modulo_03/Large45.jpg\" align=\"right\" hspace=\"20px\" vspace=\"0px\"></p>\n",
        "\n",
        "* The csv file with the data from 303 people and 14 attributes can be downloaded in this [link](https://raw.githubusercontent.com/rafaelnduarte/Heart-Disease-Analysis/master/data/heart-disease-uci.csv).\n",
        "\n",
        "* The complete file can be downloaded in this [link](https://raw.githubusercontent.com/rafaelnduarte/Heart-Disease-Analysis/master/data/heart-disease.names).\n",
        "\n",
        "* There is also a secondary dataset that will be used to analyze the number of deaths caused by heart diseases in Brazil, from 2004 to 2017. This data was made available by the \"Brazilian Cardiological Society\" [Sociedade Brasileira de Cardiologia](http://www.cardiometro.com.br/anteriores.asp), ad can be downloaded in this [link](https://raw.githubusercontent.com/carlosfab/curso_data_science_na_pratica/master/modulo_03/mortes_doencas_cardiovasculares.csv)."
      ]
    },
    {
      "cell_type": "markdown",
      "metadata": {
        "id": "Swdgtgeun5bl",
        "colab_type": "text"
      },
      "source": [
        "### Variable Dictionary\n",
        "\n",
        "\n",
        "* `age` - age in years\n",
        "* `sex` - sex\n",
        "  * 0: woman\n",
        "  * 1: man\n",
        "* `cp` - chest pain type\n",
        "  * 1: typical angina\n",
        "  * 2: atypical angina\n",
        "  * 3: non-aginal pain\n",
        "  * 4: asymptomatic\n",
        "* `trestbps` - resting blood pressure (in mm Hg on admission to the hospital)\n",
        "* `chol` - serum cholestoral in mg/dl\n",
        "* `fbs` - fasting blood sugar > 120 mg/dl\n",
        "  * 0: `False`\n",
        "  * 1: `True`\n",
        "* `restecg` - resting electrocardiographic results\n",
        "  * 0: normal\n",
        "  * 1: having ST-T wave abnormality (T wave inversions and/or ST elevation or depression of > 0.05 mV)\n",
        "  * 2: showing probable or definite left ventricular hypertrophy by Estes' criteria\n",
        "* `thalach` - maximum heart rate achieved\n",
        "* `exang` - exercise induced angina\n",
        "  * 0: no\n",
        "  * 1: yes\n",
        "* `oldpeak` - ST depression induced by exercise relative to rest\n",
        "* `slope` - the slope of the peak exercise ST segment\n",
        "  * 1: upsloping\n",
        "  * 2: flat\n",
        "  * 3: downsloping\n",
        "* `ca` - number of major vessels (0-3) colored by flourosopy\n",
        "* `thal` - thallium stress test\n",
        "  * 3: normal\n",
        "  * 6: fised defect\n",
        "  * 7: reversable defect\n",
        "* `num` - diagnosis of heart disease (angiographic disease status)\n",
        "  * 0: no heart disease ( < 50% diameter narrowing)\n",
        "  * 1,2,3,4: heart disease ( > 50% diameter narrowing)"
      ]
    },
    {
      "cell_type": "markdown",
      "metadata": {
        "id": "Kh7DWiOpTIQl",
        "colab_type": "text"
      },
      "source": [
        "### Importing the Data\n",
        "\n",
        "At first, we'll import the two datasets mentioned before:\n",
        "\n",
        "* The one provided by UCI on Heart Diseases (303 people and 14 attributes); and\n",
        "* The one containing data on deaths caused by Heart Diseases in Brazil."
      ]
    },
    {
      "cell_type": "code",
      "metadata": {
        "id": "y1_2C37HedP7",
        "colab_type": "code",
        "colab": {}
      },
      "source": [
        "# importing the necessary libraries\n",
        "import pandas as pd\n",
        "import matplotlib.pyplot as plt\n",
        "import seaborn as sns\n",
        "sns.set_style()\n",
        "%matplotlib inline\n",
        "\n",
        "!pip install pywaffle -q\n",
        "from pywaffle import Waffle\n",
        "\n",
        "# datasets url\n",
        "dataset_uci = 'https://raw.githubusercontent.com/carlosfab/curso_data_science_na_pratica/master/modulo_03/heart-disease-uci.csv'\n",
        "dataset_brasil = 'https://raw.githubusercontent.com/carlosfab/curso_data_science_na_pratica/master/modulo_03/mortes_doencas_cardiovasculares.csv'\n",
        "\n",
        "# putting the datasets into a dataframe\n",
        "df = pd.read_csv(dataset_uci)\n",
        "df_brasil = pd.read_csv(dataset_brasil)"
      ],
      "execution_count": 0,
      "outputs": []
    },
    {
      "cell_type": "markdown",
      "metadata": {
        "id": "JJqbpKrGpczy",
        "colab_type": "text"
      },
      "source": [
        "### Heart Diseases in Brazil\n",
        "\n",
        "<p><img alt=\"Brazil\" height=\"100\" src=\"https://image.freepik.com/free-vector/illustration-brazil-flag_53876-27017.jpg\" align=\"right\" hspace=\"20px\" vspace=\"0px\"></p>\n",
        "\n",
        "Brazil is the largest country in South America and is home to more than 200 million inhabitants. \n",
        "\n",
        "Healthcare is definetely a problem in Brazil, and of course, when it comes to Heart Diseases it wouldn't be different.\n",
        "\n",
        "It's interesting to see how relevant this subject is, and how important it is to work on solutions to help prevent deaths caused by heart diseases.\n"
      ]
    },
    {
      "cell_type": "code",
      "metadata": {
        "id": "dKQPXNh6pvbv",
        "colab_type": "code",
        "outputId": "238191a8-e3e5-4e14-a083-1430af821dbc",
        "colab": {
          "base_uri": "https://localhost:8080/",
          "height": 202
        }
      },
      "source": [
        "# checking the first entries of the dataframe\n",
        "df_brasil.head()"
      ],
      "execution_count": 0,
      "outputs": [
        {
          "output_type": "execute_result",
          "data": {
            "text/html": [
              "<div>\n",
              "<style scoped>\n",
              "    .dataframe tbody tr th:only-of-type {\n",
              "        vertical-align: middle;\n",
              "    }\n",
              "\n",
              "    .dataframe tbody tr th {\n",
              "        vertical-align: top;\n",
              "    }\n",
              "\n",
              "    .dataframe thead th {\n",
              "        text-align: right;\n",
              "    }\n",
              "</style>\n",
              "<table border=\"1\" class=\"dataframe\">\n",
              "  <thead>\n",
              "    <tr style=\"text-align: right;\">\n",
              "      <th></th>\n",
              "      <th>ano</th>\n",
              "      <th>mortes_doencas_cardio</th>\n",
              "    </tr>\n",
              "  </thead>\n",
              "  <tbody>\n",
              "    <tr>\n",
              "      <th>0</th>\n",
              "      <td>2017</td>\n",
              "      <td>383.961</td>\n",
              "    </tr>\n",
              "    <tr>\n",
              "      <th>1</th>\n",
              "      <td>2016</td>\n",
              "      <td>362.091</td>\n",
              "    </tr>\n",
              "    <tr>\n",
              "      <th>2</th>\n",
              "      <td>2015</td>\n",
              "      <td>349.584</td>\n",
              "    </tr>\n",
              "    <tr>\n",
              "      <th>3</th>\n",
              "      <td>2014</td>\n",
              "      <td>340.284</td>\n",
              "    </tr>\n",
              "    <tr>\n",
              "      <th>4</th>\n",
              "      <td>2013</td>\n",
              "      <td>339.672</td>\n",
              "    </tr>\n",
              "  </tbody>\n",
              "</table>\n",
              "</div>"
            ],
            "text/plain": [
              "    ano  mortes_doencas_cardio\n",
              "0  2017                383.961\n",
              "1  2016                362.091\n",
              "2  2015                349.584\n",
              "3  2014                340.284\n",
              "4  2013                339.672"
            ]
          },
          "metadata": {
            "tags": []
          },
          "execution_count": 2
        }
      ]
    },
    {
      "cell_type": "markdown",
      "metadata": {
        "id": "i4BfYNmwtYDD",
        "colab_type": "text"
      },
      "source": [
        "As we can see below, there is a great number of deaths caused by heart diseases in Brazil, which represents a serious problem.\n",
        "\n",
        "Mind that the line is clearly ascending, which represents an increase in the number of deaths.\n",
        "\n",
        "With this in mind, let's analyze our data, and work on a solution to help lower these numbers in Brazil, and all over the world."
      ]
    },
    {
      "cell_type": "code",
      "metadata": {
        "id": "PQV0huGepcZk",
        "colab_type": "code",
        "cellView": "form",
        "outputId": "b44607c9-67b9-48ba-bf76-46b0405f82c5",
        "colab": {
          "base_uri": "https://localhost:8080/",
          "height": 513
        }
      },
      "source": [
        "#@title Deaths caused by Heart Diseases in Brazil\n",
        "fig, ax = plt.subplots(figsize=(10,8))\n",
        "\n",
        "# plotting a line graph to represent deaths caused by heart disease in Brazil\n",
        "ax.plot(df_brasil.ano, df_brasil.mortes_doencas_cardio);\n",
        "ax.set_title(\"Deaths caused by Heart Diseases in Brazil from 2004 to 2016\");\n",
        "ax.set_xlabel(\"Year\");\n",
        "ax.set_ylabel(\"Deaths in thousands\");"
      ],
      "execution_count": 0,
      "outputs": [
        {
          "output_type": "display_data",
          "data": {
            "image/png": "[encoded data removed]",
            "text/plain": [
              "<Figure size 720x576 with 1 Axes>"
            ]
          },
          "metadata": {
            "tags": []
          }
        }
      ]
    },
    {
      "cell_type": "markdown",
      "metadata": {
        "id": "btUiSJftXUak",
        "colab_type": "text"
      },
      "source": [
        "## Exploratory Data Analysis\n",
        "\n",
        "Now it's time for us to explore our data and see what we can learn from it.\n",
        "\n",
        "Here, we're going to check for variable types, see the statistical distribution of the numerical variables, check for missing values, visualize the data and much more."
      ]
    },
    {
      "cell_type": "markdown",
      "metadata": {
        "id": "Ix-Y_i-xUyjj",
        "colab_type": "text"
      },
      "source": [
        "When looking at our attributes we can identify that our **target** variable **'num'** has 5 possible values: [0,1,2,3,4].\n",
        "\n",
        "However, following the majority of projects that used this dataset before, we'll consider only two possibilities:\n",
        "  * 0 - No Heart Disease\n",
        "  * 1 - Heart Disease\n",
        "  \n",
        "So, let's convert all values from 1-4 into 1."
      ]
    },
    {
      "cell_type": "code",
      "metadata": {
        "id": "SC2kiQf6UYO4",
        "colab_type": "code",
        "outputId": "2c735025-0549-444a-e9be-dfd842039e9f",
        "colab": {
          "base_uri": "https://localhost:8080/",
          "height": 121
        }
      },
      "source": [
        "# target variable before conversion\n",
        "df.num.value_counts()"
      ],
      "execution_count": 0,
      "outputs": [
        {
          "output_type": "execute_result",
          "data": {
            "text/plain": [
              "0    164\n",
              "1     55\n",
              "2     36\n",
              "3     35\n",
              "4     13\n",
              "Name: num, dtype: int64"
            ]
          },
          "metadata": {
            "tags": []
          },
          "execution_count": 4
        }
      ]
    },
    {
      "cell_type": "code",
      "metadata": {
        "id": "GxUWrn95VpPO",
        "colab_type": "code",
        "colab": {}
      },
      "source": [
        "# converting values that are different than 0 into 2\n",
        "df.loc[df.num != 0, 'num' ] = 1"
      ],
      "execution_count": 0,
      "outputs": []
    },
    {
      "cell_type": "code",
      "metadata": {
        "id": "pWwr8VM4WBJO",
        "colab_type": "code",
        "outputId": "7e7b9d9c-2f9a-4a6b-bf04-1c7963e9b261",
        "colab": {
          "base_uri": "https://localhost:8080/",
          "height": 69
        }
      },
      "source": [
        "# target variable after conversion\n",
        "df.num.value_counts()"
      ],
      "execution_count": 0,
      "outputs": [
        {
          "output_type": "execute_result",
          "data": {
            "text/plain": [
              "0    164\n",
              "1    139\n",
              "Name: num, dtype: int64"
            ]
          },
          "metadata": {
            "tags": []
          },
          "execution_count": 6
        }
      ]
    },
    {
      "cell_type": "markdown",
      "metadata": {
        "id": "7-cPTxzHZAJK",
        "colab_type": "text"
      },
      "source": [
        "### Q1. How many attributes and entries are there in the dataset? What are the types of the variables?"
      ]
    },
    {
      "cell_type": "code",
      "metadata": {
        "id": "CfZi_uC5WIdQ",
        "colab_type": "code",
        "outputId": "8a3fa439-8346-4d7d-c44b-3d7bd41ae4c9",
        "colab": {
          "base_uri": "https://localhost:8080/",
          "height": 202
        }
      },
      "source": [
        "# checking the 'face' of the dataset\n",
        "df.head()"
      ],
      "execution_count": 0,
      "outputs": [
        {
          "output_type": "execute_result",
          "data": {
            "text/html": [
              "<div>\n",
              "<style scoped>\n",
              "    .dataframe tbody tr th:only-of-type {\n",
              "        vertical-align: middle;\n",
              "    }\n",
              "\n",
              "    .dataframe tbody tr th {\n",
              "        vertical-align: top;\n",
              "    }\n",
              "\n",
              "    .dataframe thead th {\n",
              "        text-align: right;\n",
              "    }\n",
              "</style>\n",
              "<table border=\"1\" class=\"dataframe\">\n",
              "  <thead>\n",
              "    <tr style=\"text-align: right;\">\n",
              "      <th></th>\n",
              "      <th>age</th>\n",
              "      <th>sex</th>\n",
              "      <th>cp</th>\n",
              "      <th>trestbps</th>\n",
              "      <th>chol</th>\n",
              "      <th>fbs</th>\n",
              "      <th>restecg</th>\n",
              "      <th>thalach</th>\n",
              "      <th>exang</th>\n",
              "      <th>oldpeak</th>\n",
              "      <th>slope</th>\n",
              "      <th>ca</th>\n",
              "      <th>thal</th>\n",
              "      <th>num</th>\n",
              "    </tr>\n",
              "  </thead>\n",
              "  <tbody>\n",
              "    <tr>\n",
              "      <th>0</th>\n",
              "      <td>63.0</td>\n",
              "      <td>1.0</td>\n",
              "      <td>1.0</td>\n",
              "      <td>145.0</td>\n",
              "      <td>233.0</td>\n",
              "      <td>1.0</td>\n",
              "      <td>2.0</td>\n",
              "      <td>150.0</td>\n",
              "      <td>0.0</td>\n",
              "      <td>2.3</td>\n",
              "      <td>3.0</td>\n",
              "      <td>0.0</td>\n",
              "      <td>6.0</td>\n",
              "      <td>0</td>\n",
              "    </tr>\n",
              "    <tr>\n",
              "      <th>1</th>\n",
              "      <td>67.0</td>\n",
              "      <td>1.0</td>\n",
              "      <td>4.0</td>\n",
              "      <td>160.0</td>\n",
              "      <td>286.0</td>\n",
              "      <td>0.0</td>\n",
              "      <td>2.0</td>\n",
              "      <td>108.0</td>\n",
              "      <td>1.0</td>\n",
              "      <td>1.5</td>\n",
              "      <td>2.0</td>\n",
              "      <td>3.0</td>\n",
              "      <td>3.0</td>\n",
              "      <td>1</td>\n",
              "    </tr>\n",
              "    <tr>\n",
              "      <th>2</th>\n",
              "      <td>67.0</td>\n",
              "      <td>1.0</td>\n",
              "      <td>4.0</td>\n",
              "      <td>120.0</td>\n",
              "      <td>229.0</td>\n",
              "      <td>0.0</td>\n",
              "      <td>2.0</td>\n",
              "      <td>129.0</td>\n",
              "      <td>1.0</td>\n",
              "      <td>2.6</td>\n",
              "      <td>2.0</td>\n",
              "      <td>2.0</td>\n",
              "      <td>7.0</td>\n",
              "      <td>1</td>\n",
              "    </tr>\n",
              "    <tr>\n",
              "      <th>3</th>\n",
              "      <td>37.0</td>\n",
              "      <td>1.0</td>\n",
              "      <td>3.0</td>\n",
              "      <td>130.0</td>\n",
              "      <td>250.0</td>\n",
              "      <td>0.0</td>\n",
              "      <td>0.0</td>\n",
              "      <td>187.0</td>\n",
              "      <td>0.0</td>\n",
              "      <td>3.5</td>\n",
              "      <td>3.0</td>\n",
              "      <td>0.0</td>\n",
              "      <td>3.0</td>\n",
              "      <td>0</td>\n",
              "    </tr>\n",
              "    <tr>\n",
              "      <th>4</th>\n",
              "      <td>41.0</td>\n",
              "      <td>0.0</td>\n",
              "      <td>2.0</td>\n",
              "      <td>130.0</td>\n",
              "      <td>204.0</td>\n",
              "      <td>0.0</td>\n",
              "      <td>2.0</td>\n",
              "      <td>172.0</td>\n",
              "      <td>0.0</td>\n",
              "      <td>1.4</td>\n",
              "      <td>1.0</td>\n",
              "      <td>0.0</td>\n",
              "      <td>3.0</td>\n",
              "      <td>0</td>\n",
              "    </tr>\n",
              "  </tbody>\n",
              "</table>\n",
              "</div>"
            ],
            "text/plain": [
              "    age  sex   cp  trestbps   chol  fbs  ...  exang  oldpeak  slope   ca  thal  num\n",
              "0  63.0  1.0  1.0     145.0  233.0  1.0  ...    0.0      2.3    3.0  0.0   6.0    0\n",
              "1  67.0  1.0  4.0     160.0  286.0  0.0  ...    1.0      1.5    2.0  3.0   3.0    1\n",
              "2  67.0  1.0  4.0     120.0  229.0  0.0  ...    1.0      2.6    2.0  2.0   7.0    1\n",
              "3  37.0  1.0  3.0     130.0  250.0  0.0  ...    0.0      3.5    3.0  0.0   3.0    0\n",
              "4  41.0  0.0  2.0     130.0  204.0  0.0  ...    0.0      1.4    1.0  0.0   3.0    0\n",
              "\n",
              "[5 rows x 14 columns]"
            ]
          },
          "metadata": {
            "tags": []
          },
          "execution_count": 7
        }
      ]
    },
    {
      "cell_type": "code",
      "metadata": {
        "id": "aCjkPvQQXxkb",
        "colab_type": "code",
        "outputId": "14336082-3f9b-4c0c-c8bd-728e7b5da58d",
        "colab": {
          "base_uri": "https://localhost:8080/",
          "height": 277
        }
      },
      "source": [
        "# checking variable types\n",
        "df.dtypes"
      ],
      "execution_count": 0,
      "outputs": [
        {
          "output_type": "execute_result",
          "data": {
            "text/plain": [
              "age         float64\n",
              "sex         float64\n",
              "cp          float64\n",
              "trestbps    float64\n",
              "chol        float64\n",
              "fbs         float64\n",
              "restecg     float64\n",
              "thalach     float64\n",
              "exang       float64\n",
              "oldpeak     float64\n",
              "slope       float64\n",
              "ca          float64\n",
              "thal        float64\n",
              "num           int64\n",
              "dtype: object"
            ]
          },
          "metadata": {
            "tags": []
          },
          "execution_count": 8
        }
      ]
    },
    {
      "cell_type": "markdown",
      "metadata": {
        "id": "vwcFrXnpZSVc",
        "colab_type": "text"
      },
      "source": [
        "As we could see above, we're dealing with only numerical variables, which should help our statistical analysis of the dataset."
      ]
    },
    {
      "cell_type": "code",
      "metadata": {
        "id": "9m3Kxj3xX19Y",
        "colab_type": "code",
        "outputId": "5ac9d24b-a1d6-44c8-ea32-a3d7323c30f2",
        "colab": {
          "base_uri": "https://localhost:8080/",
          "height": 314
        }
      },
      "source": [
        "# statistical distribution of the dataset\n",
        "df.describe()"
      ],
      "execution_count": 0,
      "outputs": [
        {
          "output_type": "execute_result",
          "data": {
            "text/html": [
              "<div>\n",
              "<style scoped>\n",
              "    .dataframe tbody tr th:only-of-type {\n",
              "        vertical-align: middle;\n",
              "    }\n",
              "\n",
              "    .dataframe tbody tr th {\n",
              "        vertical-align: top;\n",
              "    }\n",
              "\n",
              "    .dataframe thead th {\n",
              "        text-align: right;\n",
              "    }\n",
              "</style>\n",
              "<table border=\"1\" class=\"dataframe\">\n",
              "  <thead>\n",
              "    <tr style=\"text-align: right;\">\n",
              "      <th></th>\n",
              "      <th>age</th>\n",
              "      <th>sex</th>\n",
              "      <th>cp</th>\n",
              "      <th>trestbps</th>\n",
              "      <th>chol</th>\n",
              "      <th>fbs</th>\n",
              "      <th>restecg</th>\n",
              "      <th>thalach</th>\n",
              "      <th>exang</th>\n",
              "      <th>oldpeak</th>\n",
              "      <th>slope</th>\n",
              "      <th>ca</th>\n",
              "      <th>thal</th>\n",
              "      <th>num</th>\n",
              "    </tr>\n",
              "  </thead>\n",
              "  <tbody>\n",
              "    <tr>\n",
              "      <th>count</th>\n",
              "      <td>303.000000</td>\n",
              "      <td>303.000000</td>\n",
              "      <td>303.000000</td>\n",
              "      <td>303.000000</td>\n",
              "      <td>303.000000</td>\n",
              "      <td>303.000000</td>\n",
              "      <td>303.000000</td>\n",
              "      <td>303.000000</td>\n",
              "      <td>303.000000</td>\n",
              "      <td>303.000000</td>\n",
              "      <td>303.000000</td>\n",
              "      <td>303.000000</td>\n",
              "      <td>303.000000</td>\n",
              "      <td>303.000000</td>\n",
              "    </tr>\n",
              "    <tr>\n",
              "      <th>mean</th>\n",
              "      <td>54.438944</td>\n",
              "      <td>0.679868</td>\n",
              "      <td>3.158416</td>\n",
              "      <td>131.689769</td>\n",
              "      <td>246.693069</td>\n",
              "      <td>0.148515</td>\n",
              "      <td>0.990099</td>\n",
              "      <td>149.607261</td>\n",
              "      <td>0.326733</td>\n",
              "      <td>1.039604</td>\n",
              "      <td>1.600660</td>\n",
              "      <td>0.663366</td>\n",
              "      <td>4.722772</td>\n",
              "      <td>0.458746</td>\n",
              "    </tr>\n",
              "    <tr>\n",
              "      <th>std</th>\n",
              "      <td>9.038662</td>\n",
              "      <td>0.467299</td>\n",
              "      <td>0.960126</td>\n",
              "      <td>17.599748</td>\n",
              "      <td>51.776918</td>\n",
              "      <td>0.356198</td>\n",
              "      <td>0.994971</td>\n",
              "      <td>22.875003</td>\n",
              "      <td>0.469794</td>\n",
              "      <td>1.161075</td>\n",
              "      <td>0.616226</td>\n",
              "      <td>0.934375</td>\n",
              "      <td>1.938383</td>\n",
              "      <td>0.499120</td>\n",
              "    </tr>\n",
              "    <tr>\n",
              "      <th>min</th>\n",
              "      <td>29.000000</td>\n",
              "      <td>0.000000</td>\n",
              "      <td>1.000000</td>\n",
              "      <td>94.000000</td>\n",
              "      <td>126.000000</td>\n",
              "      <td>0.000000</td>\n",
              "      <td>0.000000</td>\n",
              "      <td>71.000000</td>\n",
              "      <td>0.000000</td>\n",
              "      <td>0.000000</td>\n",
              "      <td>1.000000</td>\n",
              "      <td>0.000000</td>\n",
              "      <td>3.000000</td>\n",
              "      <td>0.000000</td>\n",
              "    </tr>\n",
              "    <tr>\n",
              "      <th>25%</th>\n",
              "      <td>48.000000</td>\n",
              "      <td>0.000000</td>\n",
              "      <td>3.000000</td>\n",
              "      <td>120.000000</td>\n",
              "      <td>211.000000</td>\n",
              "      <td>0.000000</td>\n",
              "      <td>0.000000</td>\n",
              "      <td>133.500000</td>\n",
              "      <td>0.000000</td>\n",
              "      <td>0.000000</td>\n",
              "      <td>1.000000</td>\n",
              "      <td>0.000000</td>\n",
              "      <td>3.000000</td>\n",
              "      <td>0.000000</td>\n",
              "    </tr>\n",
              "    <tr>\n",
              "      <th>50%</th>\n",
              "      <td>56.000000</td>\n",
              "      <td>1.000000</td>\n",
              "      <td>3.000000</td>\n",
              "      <td>130.000000</td>\n",
              "      <td>241.000000</td>\n",
              "      <td>0.000000</td>\n",
              "      <td>1.000000</td>\n",
              "      <td>153.000000</td>\n",
              "      <td>0.000000</td>\n",
              "      <td>0.800000</td>\n",
              "      <td>2.000000</td>\n",
              "      <td>0.000000</td>\n",
              "      <td>3.000000</td>\n",
              "      <td>0.000000</td>\n",
              "    </tr>\n",
              "    <tr>\n",
              "      <th>75%</th>\n",
              "      <td>61.000000</td>\n",
              "      <td>1.000000</td>\n",
              "      <td>4.000000</td>\n",
              "      <td>140.000000</td>\n",
              "      <td>275.000000</td>\n",
              "      <td>0.000000</td>\n",
              "      <td>2.000000</td>\n",
              "      <td>166.000000</td>\n",
              "      <td>1.000000</td>\n",
              "      <td>1.600000</td>\n",
              "      <td>2.000000</td>\n",
              "      <td>1.000000</td>\n",
              "      <td>7.000000</td>\n",
              "      <td>1.000000</td>\n",
              "    </tr>\n",
              "    <tr>\n",
              "      <th>max</th>\n",
              "      <td>77.000000</td>\n",
              "      <td>1.000000</td>\n",
              "      <td>4.000000</td>\n",
              "      <td>200.000000</td>\n",
              "      <td>564.000000</td>\n",
              "      <td>1.000000</td>\n",
              "      <td>2.000000</td>\n",
              "      <td>202.000000</td>\n",
              "      <td>1.000000</td>\n",
              "      <td>6.200000</td>\n",
              "      <td>3.000000</td>\n",
              "      <td>3.000000</td>\n",
              "      <td>7.000000</td>\n",
              "      <td>1.000000</td>\n",
              "    </tr>\n",
              "  </tbody>\n",
              "</table>\n",
              "</div>"
            ],
            "text/plain": [
              "              age         sex          cp  ...          ca        thal         num\n",
              "count  303.000000  303.000000  303.000000  ...  303.000000  303.000000  303.000000\n",
              "mean    54.438944    0.679868    3.158416  ...    0.663366    4.722772    0.458746\n",
              "std      9.038662    0.467299    0.960126  ...    0.934375    1.938383    0.499120\n",
              "min     29.000000    0.000000    1.000000  ...    0.000000    3.000000    0.000000\n",
              "25%     48.000000    0.000000    3.000000  ...    0.000000    3.000000    0.000000\n",
              "50%     56.000000    1.000000    3.000000  ...    0.000000    3.000000    0.000000\n",
              "75%     61.000000    1.000000    4.000000  ...    1.000000    7.000000    1.000000\n",
              "max     77.000000    1.000000    4.000000  ...    3.000000    7.000000    1.000000\n",
              "\n",
              "[8 rows x 14 columns]"
            ]
          },
          "metadata": {
            "tags": []
          },
          "execution_count": 9
        }
      ]
    },
    {
      "cell_type": "markdown",
      "metadata": {
        "id": "uwZcj5WEZdwG",
        "colab_type": "text"
      },
      "source": [
        "As stated before, [num] is our **target variable**, for being the one that indicates whether a patient has a heart disease or not.\n",
        "\n",
        "With that in mind, let's see how many patients in this dataset have heart disease."
      ]
    },
    {
      "cell_type": "code",
      "metadata": {
        "id": "yRwgHLivYCxj",
        "colab_type": "code",
        "outputId": "c8ece44c-adaa-48f2-8cc4-1348f8c85599",
        "colab": {
          "base_uri": "https://localhost:8080/",
          "height": 121
        }
      },
      "source": [
        "# checking for the number of patients with heart disease\n",
        "print('0: No Heart Disease\\n1: Heart Disease\\n')\n",
        "df.num.value_counts()"
      ],
      "execution_count": 0,
      "outputs": [
        {
          "output_type": "stream",
          "text": [
            "0: No Heart Disease\n",
            "1: Heart Disease\n",
            "\n"
          ],
          "name": "stdout"
        },
        {
          "output_type": "execute_result",
          "data": {
            "text/plain": [
              "0    164\n",
              "1    139\n",
              "Name: num, dtype: int64"
            ]
          },
          "metadata": {
            "tags": []
          },
          "execution_count": 10
        }
      ]
    },
    {
      "cell_type": "markdown",
      "metadata": {
        "id": "KaItkWRiewuK",
        "colab_type": "text"
      },
      "source": [
        "### Q2. What's the percentage of missing values?\n",
        "\n",
        "To make sure our analysis is precise, we need to check for missing values, and deal with them in case there are any."
      ]
    },
    {
      "cell_type": "code",
      "metadata": {
        "id": "1xOv-538YV5g",
        "colab_type": "code",
        "outputId": "0e5cbabd-d9bd-4a68-fd41-5fcbbf06836b",
        "colab": {
          "base_uri": "https://localhost:8080/",
          "height": 277
        }
      },
      "source": [
        "# checking for missing values\n",
        "(df.isnull().sum()/ df.shape[0]).sort_values(ascending=False)"
      ],
      "execution_count": 0,
      "outputs": [
        {
          "output_type": "execute_result",
          "data": {
            "text/plain": [
              "num         0.0\n",
              "thal        0.0\n",
              "ca          0.0\n",
              "slope       0.0\n",
              "oldpeak     0.0\n",
              "exang       0.0\n",
              "thalach     0.0\n",
              "restecg     0.0\n",
              "fbs         0.0\n",
              "chol        0.0\n",
              "trestbps    0.0\n",
              "cp          0.0\n",
              "sex         0.0\n",
              "age         0.0\n",
              "dtype: float64"
            ]
          },
          "metadata": {
            "tags": []
          },
          "execution_count": 11
        }
      ]
    },
    {
      "cell_type": "markdown",
      "metadata": {
        "id": "rYJxITNBfxw8",
        "colab_type": "text"
      },
      "source": [
        "Since this dataset has been pre-processed, there are no missing values, which helps us in our analysis and *Machine Learning* models."
      ]
    },
    {
      "cell_type": "markdown",
      "metadata": {
        "id": "nSBMsAd20-Xt",
        "colab_type": "text"
      },
      "source": [
        "### Q3. Distributions and Correlations\n",
        "\n",
        "To check correlations and distributions, let's work on our dataset a little more."
      ]
    },
    {
      "cell_type": "code",
      "metadata": {
        "id": "__eHniH7fo2q",
        "colab_type": "code",
        "outputId": "0213dd9a-66fa-4240-dc98-f17469ec451c",
        "cellView": "both",
        "colab": {
          "base_uri": "https://localhost:8080/",
          "height": 339
        }
      },
      "source": [
        "#@title Patients by sex\n",
        "\n",
        "# waffle chart Patients by sex\n",
        "from pywaffle import Waffle\n",
        "data = df.sex.value_counts()\n",
        "print('Patients by Sex:\\n',data)\n",
        "# plotting waffle chart\n",
        "fig = plt.figure(\n",
        "                FigureClass=Waffle,\n",
        "                rows=10,\n",
        "                columns=10,\n",
        "                colors=(\"#AE2C94\", \"#2C39AE\"),\n",
        "                values={'Women': 97,\n",
        "                        'Men': 206,\n",
        "                        }, icons=('female','male'), icon_size=20,\n",
        "                legend={'loc': 'upper left', 'bbox_to_anchor': (1,1)},\n",
        "                icon_legend=True\n",
        "                )\n",
        "fig.set_tight_layout(False)\n",
        "plt.show();"
      ],
      "execution_count": 0,
      "outputs": [
        {
          "output_type": "stream",
          "text": [
            "Patients by Sex:\n",
            " 1.0    206\n",
            "0.0     97\n",
            "Name: sex, dtype: int64\n"
          ],
          "name": "stdout"
        },
        {
          "output_type": "display_data",
          "data": {
            "image/png": "[encoded data removed]",
            "text/plain": [
              "<Waffle size 432x288 with 1 Axes>"
            ]
          },
          "metadata": {
            "tags": []
          }
        }
      ]
    },
    {
      "cell_type": "markdown",
      "metadata": {
        "id": "LyS36nn_gy7-",
        "colab_type": "text"
      },
      "source": [
        "As we could see above, there are more men than women in the population of our dataset. Could there be any correlation between sex and heart disease? We'll find out soon."
      ]
    },
    {
      "cell_type": "markdown",
      "metadata": {
        "id": "TUI0eh4L0cj7",
        "colab_type": "text"
      },
      "source": [
        "**What's the impact of cholesterol on the patients?**\n",
        "\n",
        "It's known that having high levels of cholesterol may increase your chances of having heart problems, such as heart attacks and strokes. For that reason, it's interesting for us to study our population and understand their cholesterol levels.\n",
        "\n",
        "For reference, total cholesterol levels less than 200 milligrams per deciliter (mg/dL) are considered desirable for adults. A reading between 200 and 239 mg/dL is considered borderline high and a reading of 240 mg/dL and above is considered high."
      ]
    },
    {
      "cell_type": "markdown",
      "metadata": {
        "id": "reJjmK0i1Pn6",
        "colab_type": "text"
      },
      "source": [
        "Below, we find a scatter plot of the patients' ages and cholesterol levels.\n",
        "\n",
        "As highlighted by the line, we can see that there is a correlation between being older and having higher cholesterol. That doesn't mean that young people won't have high levels of cholesterol, what it shows is that the line is ascending, which means that the further you age, the more likely you are to have high levels of cholesterol and, possibly, heart diseases."
      ]
    },
    {
      "cell_type": "code",
      "metadata": {
        "id": "weLZhBQUgb48",
        "colab_type": "code",
        "cellView": "both",
        "outputId": "5326870d-fdea-4365-e9a3-c2cd37403920",
        "colab": {
          "base_uri": "https://localhost:8080/",
          "height": 392
        }
      },
      "source": [
        "#@title Scatter Plot and Linear Regression on Age and Cholesterol Levels\n",
        "# scatter plot and linear regression\n",
        "fig, ax = plt.subplots(figsize=(10,6))\n",
        "\n",
        "ax.set_xlim(left=25,right=80)\n",
        "sns.regplot('age', 'chol', scatter_kws={\"s\": 5},\n",
        "            line_kws={\"color\": \"red\"}, data=df, ax=ax);"
      ],
      "execution_count": 0,
      "outputs": [
        {
          "output_type": "display_data",
          "data": {
            "image/png": "[encoded data removed]",
            "text/plain": [
              "<Figure size 720x432 with 1 Axes>"
            ]
          },
          "metadata": {
            "tags": []
          }
        }
      ]
    },
    {
      "cell_type": "markdown",
      "metadata": {
        "id": "T0KtoCLL1VD8",
        "colab_type": "text"
      },
      "source": [
        "Below, we can see that most of the patients have cholesterol levels higher than desirable. It should be interesting to check the correlation between cholesterol levels and whether the patience has a heart disease or not."
      ]
    },
    {
      "cell_type": "code",
      "metadata": {
        "id": "ET3StoPjypV1",
        "colab_type": "code",
        "cellView": "both",
        "outputId": "6598b6bd-411f-433a-909f-4f74515d5b47",
        "colab": {
          "base_uri": "https://localhost:8080/",
          "height": 323
        }
      },
      "source": [
        "#@title Distribution of Cholesterol Levels\n",
        "# distribution of cholesterol levels\n",
        "df.chol.hist(bins=15, figsize=(10,5));\n",
        "sns.set()"
      ],
      "execution_count": 0,
      "outputs": [
        {
          "output_type": "display_data",
          "data": {
            "image/png": "[encoded data removed]",
            "text/plain": [
              "<Figure size 720x360 with 1 Axes>"
            ]
          },
          "metadata": {
            "tags": []
          }
        }
      ]
    },
    {
      "cell_type": "markdown",
      "metadata": {
        "id": "7GvJGGU2XetJ",
        "colab_type": "text"
      },
      "source": [
        "Let's take a better look at the distribution of the results of resting electrocardiographic exams."
      ]
    },
    {
      "cell_type": "code",
      "metadata": {
        "id": "8drwDucG11Oz",
        "colab_type": "code",
        "colab": {}
      },
      "source": [
        "# extracting the data into a dictionary\n",
        "restecg = dict(df.restecg.value_counts())\n",
        "\n",
        "# preparing the data for the pie chart\n",
        "labels = restecg.keys()\n",
        "sizes = restecg.values()\n",
        "explode = (0.1, 0, 0)"
      ],
      "execution_count": 0,
      "outputs": []
    },
    {
      "cell_type": "markdown",
      "metadata": {
        "id": "0mq9AltmZxj-",
        "colab_type": "text"
      },
      "source": [
        "As we can see below, the majority of the results revealed normal status, followed by patients having ST-T wave abnormality and a minority of the patients having probable or definite left ventricular hypertrophia by Estes' criteria."
      ]
    },
    {
      "cell_type": "code",
      "metadata": {
        "id": "e45t5SET4o5F",
        "colab_type": "code",
        "cellView": "form",
        "outputId": "145dd879-4865-4995-c720-1ab51f2f3537",
        "colab": {
          "base_uri": "https://localhost:8080/",
          "height": 396
        }
      },
      "source": [
        "#@title Pie chart on Resting Electrocardiographic Results\n",
        "# plotting a pie chart on Resting Electrocardiographic Results\n",
        "fig, ax = plt.subplots(figsize=(7,7))\n",
        "\n",
        "ax.pie(sizes, labels=('Normal','ST-T Wave Abnormality', 'Left Ventricular Hypertrophia'), explode=explode, shadow=False)\n",
        "ax.set_title(\"Resting Electrocardiographic Results\")\n",
        "\n",
        "plt.tight_layout()"
      ],
      "execution_count": 0,
      "outputs": [
        {
          "output_type": "display_data",
          "data": {
            "image/png": "[encoded data removed]",
            "text/plain": [
              "<Figure size 504x504 with 1 Axes>"
            ]
          },
          "metadata": {
            "tags": []
          }
        }
      ]
    },
    {
      "cell_type": "markdown",
      "metadata": {
        "id": "f3ZM_q4vcC0f",
        "colab_type": "text"
      },
      "source": [
        "With all of this information in mind, it's time to check and understand the correlations between the variables, and see which contribute more for heart diseases."
      ]
    },
    {
      "cell_type": "code",
      "metadata": {
        "id": "qzYkKomRzqkY",
        "colab_type": "code",
        "cellView": "form",
        "outputId": "251caa1a-3443-4a4e-a182-64e6cd5cf2cf",
        "colab": {
          "base_uri": "https://localhost:8080/",
          "height": 647
        }
      },
      "source": [
        "#@title Correlation Heatmap\n",
        "# plotting a correlation heatmap\n",
        "#fig, ax = plt.subplots(figsize=(10,6))\n",
        "\n",
        "#sns.heatmap(df.corr(),\n",
        "  #          vmax=1.0, linecolor='white', annot=True)\n",
        "#plt.tight_layout()\n",
        "\n",
        "f, ax = plt.subplots(figsize=(12, 9))\n",
        "sns.set(font_scale=1.25)\n",
        "hm = sns.heatmap(df.corr(), cbar=True, annot=True, square=True, fmt='.2f', annot_kws={'size': 10})\n",
        "plt.tight_layout()"
      ],
      "execution_count": 0,
      "outputs": [
        {
          "output_type": "display_data",
          "data": {
            "image/png": "[encoded data removed]",
            "text/plain": [
              "<Figure size 864x648 with 2 Axes>"
            ]
          },
          "metadata": {
            "tags": []
          }
        }
      ]
    },
    {
      "cell_type": "markdown",
      "metadata": {
        "id": "suk1eXGD4cPx",
        "colab_type": "text"
      },
      "source": [
        "### Exploratory Data Analysis Conclusions\n",
        "After analyzing the dataset and visualizing the correlation heatmap, we can come to some conclusions:\n",
        "\n",
        "* Mild correlation between Heart Disease and age, sex, cholesterol levels, resting electrocardiographic results and fasting blood sugar.\n",
        "* High correlation between Heart Disease and thallium stress test, number of major vessels, slope of the peak exercise ST segment, exercise induced angina, and chest pain."
      ]
    },
    {
      "cell_type": "markdown",
      "metadata": {
        "id": "IZE4wh1ZcU7_",
        "colab_type": "text"
      },
      "source": [
        "## Machine Learning - Predicting Heart Diseases\n",
        "\n",
        "\n",
        "<center><img alt='AI'  width='40%'src=\"https://image.freepik.com/free-vector/digital-code-diagram-technology-artificial-intelligence_1017-11828.jpg\"></center>\n",
        "\n",
        "\n",
        "After analyzing and understanding our data, it's time to implement a *Machine Learning* model to predict whether a person is prone to having Heart Diseases or not.\n",
        "\n",
        "For that, we'll use a algorithm called **XGBoost**. XGBoost stands for E**X**treme **G**radient **Boost**ing, and it belongs to the class of *Decision Trees*.\n",
        "\n",
        "This algorithm has been breaking ground and is becoming one of the most used in Kaggle Competitions nowadays, and is a reference of precision and accuracy."
      ]
    },
    {
      "cell_type": "code",
      "metadata": {
        "id": "x6biyt6NUCYd",
        "colab_type": "code",
        "outputId": "2c56e1cf-9121-47a7-8c1b-19daf9181e99",
        "colab": {
          "base_uri": "https://localhost:8080/",
          "height": 237
        }
      },
      "source": [
        "# importing the necessary libraries\n",
        "from xgboost import XGBClassifier\n",
        "from sklearn.model_selection import train_test_split\n",
        "from sklearn.metrics import accuracy_score\n",
        "\n",
        "# checking first entries again\n",
        "print(\"Size of the DataFrame: {}\\n\".format(df.shape))\n",
        "df.head()"
      ],
      "execution_count": 0,
      "outputs": [
        {
          "output_type": "stream",
          "text": [
            "Size of the DataFrame: (303, 14)\n",
            "\n"
          ],
          "name": "stdout"
        },
        {
          "output_type": "execute_result",
          "data": {
            "text/html": [
              "<div>\n",
              "<style scoped>\n",
              "    .dataframe tbody tr th:only-of-type {\n",
              "        vertical-align: middle;\n",
              "    }\n",
              "\n",
              "    .dataframe tbody tr th {\n",
              "        vertical-align: top;\n",
              "    }\n",
              "\n",
              "    .dataframe thead th {\n",
              "        text-align: right;\n",
              "    }\n",
              "</style>\n",
              "<table border=\"1\" class=\"dataframe\">\n",
              "  <thead>\n",
              "    <tr style=\"text-align: right;\">\n",
              "      <th></th>\n",
              "      <th>age</th>\n",
              "      <th>sex</th>\n",
              "      <th>cp</th>\n",
              "      <th>trestbps</th>\n",
              "      <th>chol</th>\n",
              "      <th>fbs</th>\n",
              "      <th>restecg</th>\n",
              "      <th>thalach</th>\n",
              "      <th>exang</th>\n",
              "      <th>oldpeak</th>\n",
              "      <th>slope</th>\n",
              "      <th>ca</th>\n",
              "      <th>thal</th>\n",
              "      <th>num</th>\n",
              "    </tr>\n",
              "  </thead>\n",
              "  <tbody>\n",
              "    <tr>\n",
              "      <th>0</th>\n",
              "      <td>63.0</td>\n",
              "      <td>1.0</td>\n",
              "      <td>1.0</td>\n",
              "      <td>145.0</td>\n",
              "      <td>233.0</td>\n",
              "      <td>1.0</td>\n",
              "      <td>2.0</td>\n",
              "      <td>150.0</td>\n",
              "      <td>0.0</td>\n",
              "      <td>2.3</td>\n",
              "      <td>3.0</td>\n",
              "      <td>0.0</td>\n",
              "      <td>6.0</td>\n",
              "      <td>0</td>\n",
              "    </tr>\n",
              "    <tr>\n",
              "      <th>1</th>\n",
              "      <td>67.0</td>\n",
              "      <td>1.0</td>\n",
              "      <td>4.0</td>\n",
              "      <td>160.0</td>\n",
              "      <td>286.0</td>\n",
              "      <td>0.0</td>\n",
              "      <td>2.0</td>\n",
              "      <td>108.0</td>\n",
              "      <td>1.0</td>\n",
              "      <td>1.5</td>\n",
              "      <td>2.0</td>\n",
              "      <td>3.0</td>\n",
              "      <td>3.0</td>\n",
              "      <td>1</td>\n",
              "    </tr>\n",
              "    <tr>\n",
              "      <th>2</th>\n",
              "      <td>67.0</td>\n",
              "      <td>1.0</td>\n",
              "      <td>4.0</td>\n",
              "      <td>120.0</td>\n",
              "      <td>229.0</td>\n",
              "      <td>0.0</td>\n",
              "      <td>2.0</td>\n",
              "      <td>129.0</td>\n",
              "      <td>1.0</td>\n",
              "      <td>2.6</td>\n",
              "      <td>2.0</td>\n",
              "      <td>2.0</td>\n",
              "      <td>7.0</td>\n",
              "      <td>1</td>\n",
              "    </tr>\n",
              "    <tr>\n",
              "      <th>3</th>\n",
              "      <td>37.0</td>\n",
              "      <td>1.0</td>\n",
              "      <td>3.0</td>\n",
              "      <td>130.0</td>\n",
              "      <td>250.0</td>\n",
              "      <td>0.0</td>\n",
              "      <td>0.0</td>\n",
              "      <td>187.0</td>\n",
              "      <td>0.0</td>\n",
              "      <td>3.5</td>\n",
              "      <td>3.0</td>\n",
              "      <td>0.0</td>\n",
              "      <td>3.0</td>\n",
              "      <td>0</td>\n",
              "    </tr>\n",
              "    <tr>\n",
              "      <th>4</th>\n",
              "      <td>41.0</td>\n",
              "      <td>0.0</td>\n",
              "      <td>2.0</td>\n",
              "      <td>130.0</td>\n",
              "      <td>204.0</td>\n",
              "      <td>0.0</td>\n",
              "      <td>2.0</td>\n",
              "      <td>172.0</td>\n",
              "      <td>0.0</td>\n",
              "      <td>1.4</td>\n",
              "      <td>1.0</td>\n",
              "      <td>0.0</td>\n",
              "      <td>3.0</td>\n",
              "      <td>0</td>\n",
              "    </tr>\n",
              "  </tbody>\n",
              "</table>\n",
              "</div>"
            ],
            "text/plain": [
              "    age  sex   cp  trestbps   chol  fbs  ...  exang  oldpeak  slope   ca  thal  num\n",
              "0  63.0  1.0  1.0     145.0  233.0  1.0  ...    0.0      2.3    3.0  0.0   6.0    0\n",
              "1  67.0  1.0  4.0     160.0  286.0  0.0  ...    1.0      1.5    2.0  3.0   3.0    1\n",
              "2  67.0  1.0  4.0     120.0  229.0  0.0  ...    1.0      2.6    2.0  2.0   7.0    1\n",
              "3  37.0  1.0  3.0     130.0  250.0  0.0  ...    0.0      3.5    3.0  0.0   3.0    0\n",
              "4  41.0  0.0  2.0     130.0  204.0  0.0  ...    0.0      1.4    1.0  0.0   3.0    0\n",
              "\n",
              "[5 rows x 14 columns]"
            ]
          },
          "metadata": {
            "tags": []
          },
          "execution_count": 18
        }
      ]
    },
    {
      "cell_type": "markdown",
      "metadata": {
        "id": "lN3hW1qAj1_Y",
        "colab_type": "text"
      },
      "source": [
        "For our model to work, we need to split the dataset into training and testing datasets. To do that, we'll use *Scikit-Learn*.\n",
        "\n",
        "After that, we'll create and train our model."
      ]
    },
    {
      "cell_type": "code",
      "metadata": {
        "id": "shZb-GH3dvin",
        "colab_type": "code",
        "outputId": "8ea72c41-2077-4de2-e1c6-54c050076dc0",
        "colab": {
          "base_uri": "https://localhost:8080/",
          "height": 139
        }
      },
      "source": [
        "# determining X e y\n",
        "X = df.drop('num', axis=1)\n",
        "y = df['num']\n",
        "\n",
        "# dividing the dataset between train and test\n",
        "X_train, X_test, y_train, y_test = train_test_split(X, y)\n",
        "\n",
        "# creating and training the model\n",
        "ml_model = XGBClassifier(learning_rate=0.05, n_estimators=100,\n",
        "                         max_depth=4, subsample = 0.9,\n",
        "                         colsample_bytree = 0.1, gamma=1,\n",
        "                         random_state=42)\n",
        "ml_model.fit(X_train, y_train)"
      ],
      "execution_count": 0,
      "outputs": [
        {
          "output_type": "execute_result",
          "data": {
            "text/plain": [
              "XGBClassifier(base_score=0.5, booster='gbtree', colsample_bylevel=1,\n",
              "              colsample_bynode=1, colsample_bytree=0.1, gamma=1,\n",
              "              learning_rate=0.05, max_delta_step=0, max_depth=4,\n",
              "              min_child_weight=1, missing=None, n_estimators=100, n_jobs=1,\n",
              "              nthread=None, objective='binary:logistic', random_state=42,\n",
              "              reg_alpha=0, reg_lambda=1, scale_pos_weight=1, seed=None,\n",
              "              silent=None, subsample=0.9, verbosity=1)"
            ]
          },
          "metadata": {
            "tags": []
          },
          "execution_count": 33
        }
      ]
    },
    {
      "cell_type": "markdown",
      "metadata": {
        "id": "0yFF6WfdkOfr",
        "colab_type": "text"
      },
      "source": [
        "With our model created, it's time to measure its accuracy. For that, again, we'll use *Scikit-Learn* and its accuracy score.\n",
        "\n",
        "To put it simply, our machine learning model will run through the test dataset, making predictions. After that, it will cross-reference these results with the dataset that has the actual results, thus, calculating its accuracy, and returning a score for the model."
      ]
    },
    {
      "cell_type": "code",
      "metadata": {
        "id": "E0IxyY4YeRXd",
        "colab_type": "code",
        "outputId": "0554a9ed-789b-48d5-c2bc-ebfec7b022cd",
        "colab": {
          "base_uri": "https://localhost:8080/",
          "height": 69
        }
      },
      "source": [
        "# predictions and probabilities on the test dataset\n",
        "y_pred = ml_model.predict(X_test)\n",
        "\n",
        "# checking the performance of the algorithm\n",
        "print(\"\\nAccuracy Score:\")\n",
        "print (accuracy_score(y_test, y_pred))"
      ],
      "execution_count": 0,
      "outputs": [
        {
          "output_type": "stream",
          "text": [
            "\n",
            "Accuracy Score:\n",
            "0.881578947368421\n"
          ],
          "name": "stdout"
        }
      ]
    },
    {
      "cell_type": "markdown",
      "metadata": {
        "id": "4I7oy4sclbTw",
        "colab_type": "text"
      },
      "source": [
        "# Conclusions\n",
        "After thoroughly analyzing the data, we were able to better understand the variables related to heart diseases.\n",
        "\n",
        "With that knowledge, we were able to use a *Machine Learning* algorithm to make predictions that can help doctors diagnose patients with heart disease.\n",
        "\n",
        "With the proper development and use, this kind of work can save lives!\n",
        "\n",
        "Hope you found it interesting and educative.\n",
        "\n",
        "<center><img width = '80%'src= \"https://github.com/rafaelnduarte/Analysis_of_Violence_in_Rio_de_Janeiro/raw/master/img/rafaelnd_ds.png\"></center>\n"
      ]
    }
  ]
}